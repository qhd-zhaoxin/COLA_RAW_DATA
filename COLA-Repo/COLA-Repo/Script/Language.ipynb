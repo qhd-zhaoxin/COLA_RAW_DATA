{
 "cells": [
  {
   "cell_type": "code",
   "execution_count": 1,
   "id": "7686c824-8ec7-41e6-b784-c9348b6df67e",
   "metadata": {},
   "outputs": [
    {
     "ename": "SyntaxError",
     "evalue": "invalid syntax (1281573329.py, line 1)",
     "output_type": "error",
     "traceback": [
      "\u001b[0;36m  Input \u001b[0;32mIn [1]\u001b[0;36m\u001b[0m\n\u001b[0;31m    $ pip install langdetect\u001b[0m\n\u001b[0m    ^\u001b[0m\n\u001b[0;31mSyntaxError\u001b[0m\u001b[0;31m:\u001b[0m invalid syntax\n"
     ]
    }
   ],
   "source": [
    "$ pip install langdetect"
   ]
  },
  {
   "cell_type": "code",
   "execution_count": 2,
   "id": "60bc4d9e-dca4-4592-92aa-bd01921ecc04",
   "metadata": {},
   "outputs": [
    {
     "name": "stdout",
     "output_type": "stream",
     "text": [
      "Collecting langdetect\n",
      "  Downloading langdetect-1.0.9.tar.gz (981 kB)\n",
      "\u001b[K     |████████████████████████████████| 981 kB 3.3 MB/s eta 0:00:01\n",
      "\u001b[?25hRequirement already satisfied: six in ./opt/anaconda3/lib/python3.9/site-packages (from langdetect) (1.16.0)\n",
      "Building wheels for collected packages: langdetect\n",
      "  Building wheel for langdetect (setup.py) ... \u001b[?25ldone\n",
      "\u001b[?25h  Created wheel for langdetect: filename=langdetect-1.0.9-py3-none-any.whl size=993242 sha256=fc2e82133c7b5afb510e9de78dde83773fdd2472dfd3e59c9e08704954651ac6\n",
      "  Stored in directory: /Users/gurshanrai/Library/Caches/pip/wheels/d1/c1/d9/7e068de779d863bc8f8fc9467d85e25cfe47fa5051fff1a1bb\n",
      "Successfully built langdetect\n",
      "Installing collected packages: langdetect\n",
      "Successfully installed langdetect-1.0.9\n",
      "Note: you may need to restart the kernel to use updated packages.\n"
     ]
    }
   ],
   "source": [
    "pip install langdetect"
   ]
  },
  {
   "cell_type": "code",
   "execution_count": 17,
   "id": "8153f7f0-9b56-41c7-bafa-472c70a405c8",
   "metadata": {},
   "outputs": [
    {
     "data": {
      "text/plain": [
       "'en'"
      ]
     },
     "execution_count": 17,
     "metadata": {},
     "output_type": "execute_result"
    }
   ],
   "source": [
    "from langdetect import detect\n",
    "detect(\"devo generare una sine waveform con una certa fase iniziale ma che sia reentrant  in quanto sto simulando una digital down conversion e genero per ogni simbolo la moltiplicazione dei campioni del simbolo trasmesso con un numero di campioni uguali di una sinusoide con una certa frequenza. Quindi per ogni simbolo devo far partire la sinusoide con la fase con cui ha terminato l'iterazione precedente. Inoltre  dato che sto simulando una 16 QAM ho la necessità di creare due portanti  una seno ed una coseno  entrambe rientranti  ma con fase iniziale sfasata di 90 ° tra loro. Però  il vi SineWaveform ignora la phase se il segnale di Reset è false  come nel mio caso.  I have to generate a sine waveform with a initial phase but it has to be reentrant.Since I'm simulating a digital down-conversion  I have to multiply the samples of each symbol with an equal number of samples of a sine wave that has a fixed frequency. So  for each symbol I need that sine waveform starts with the phase with which ends the previous sine waveform( related to previous symbol). Also  since I am simulating a 16 QAM modulation I need to create a sine and a cosine  but the initial phase of 90 ° out of phase with each other. My problem is that SineWaveform ignores phase if reset signal is false  as in my case.\")"
   ]
  },
  {
   "cell_type": "code",
   "execution_count": 4,
   "id": "169d28a8-4d89-4663-a0c3-42f15b4cb85d",
   "metadata": {},
   "outputs": [
    {
     "data": {
      "text/plain": [
       "'de'"
      ]
     },
     "execution_count": 4,
     "metadata": {},
     "output_type": "execute_result"
    }
   ],
   "source": [
    "detect(\"Ein, zwei, drei, vier\")"
   ]
  },
  {
   "cell_type": "code",
   "execution_count": 5,
   "id": "86d7127f-28ed-419a-ba0f-64d7bc0e91b3",
   "metadata": {},
   "outputs": [
    {
     "data": {
      "text/plain": [
       "'es'"
      ]
     },
     "execution_count": 5,
     "metadata": {},
     "output_type": "execute_result"
    }
   ],
   "source": [
    "detect(\"Hola soy dora\")"
   ]
  },
  {
   "cell_type": "code",
   "execution_count": 13,
   "id": "6b67ecf9-284e-4ff1-b8ab-a65e1778947e",
   "metadata": {},
   "outputs": [
    {
     "data": {
      "text/plain": [
       "'es'"
      ]
     },
     "execution_count": 13,
     "metadata": {},
     "output_type": "execute_result"
    }
   ],
   "source": [
    "from langdetect import detect_langs\n",
    "string = \"HOLA INGENIERO.ESTOY TRATANDO DE HACER UNA APLICACION EN LA CUAL TENGA CIERTOS ACCESOS RESTRINGIDOS  POR EJEMPLO  QUIERO QUE AL OPRIMIR UN BOTON APAREZCA UNA VENTANA EN LA CUAL VENGA EN DONDE TECLEAR EL NOMBRE DEL USUARIO Y UNA CLAVE DE ACCESO  Y SI ES INCORRECTO QUE NO TOME ACCION O VUELVA A REGRESAR A LA VENTANA PARA INTENTAR OTRO PASSWORD. AL ESTAR EXPLORANDO EL LABVIEW ENCONTRE DOS FUNCIONES QUE HACEN ALGO PARECIDO COMO:  NI SEC Invoke Login Dialog   Y TALVEZ  Prompt User for Input   PERO LAS LIMITACIONES QUE TIENEN PARA MI APLICACION SON:EN EL NI SEC Invoke Login Dialog NO PUEDO CAMBIAR EL PASSWORD NI EL NOMBRE DE USUARIO (O AL MENOS NO SE COMO)  SI NO TECLEAS NINGUN PASSWORD Y DAS CLICK EN OK SE LO SALTA COMO SI VALIDARA UN PASSWORD  NO TIENE UNA SALIDA PARA VERIFICAR SI ES CORRECTO O INCORRECTO EL PASSWORD PREVIAMENTE TECLEADOEN EL Prompt User for Input SI NO TECLEAS NINGUN PASSWORD Y DAS CLICK EN OK SE LO SALTA COMO SI VALIDARA UN PASSWORD.SI TIENES ALGUN TIP O EJEMPLO DE PODER REALIZAR LO QUE ESTOY BUSCANDO  PORFAVOR ENVIAMELODE ANTEMANO GRACIAS\"\n",
    "detect(string.lower())"
   ]
  },
  {
   "cell_type": "code",
   "execution_count": 8,
   "id": "45d9f77f-aa7b-4358-80e8-1b073eb4c0a8",
   "metadata": {},
   "outputs": [
    {
     "data": {
      "text/plain": [
       "[de:0.9999978928586165]"
      ]
     },
     "execution_count": 8,
     "metadata": {},
     "output_type": "execute_result"
    }
   ],
   "source": [
    "from langdetect import detect_langs\n",
    "detect_langs(\"Ein, zwei, drei, vier\")"
   ]
  },
  {
   "cell_type": "code",
   "execution_count": 16,
   "id": "0b748121-5a0e-4e50-955f-9b396e2d777d",
   "metadata": {},
   "outputs": [
    {
     "name": "stderr",
     "output_type": "stream",
     "text": [
      "/Users/gurshanrai/opt/anaconda3/lib/python3.9/site-packages/xlsxwriter/worksheet.py:1170: UserWarning: Ignoring URL 'http://cnx.org/content/m13711/latest/http://cnx.org/content/m13711/latest/  Hi%20I%20am%20trying%20to%20carry%20out%20this%20VI%20curve%20tutorial%20http://cnx.org/content/m13711/latest/  Hi%20I%20am%20trying%20to%20carry%20out%20this%20VI%20curve%20tutorial%20 I%20have%20everything%20set%20up%20but%20I%20am%20really%20having%20trouble%20with%20the%20Block%20diagram%20I%20am%20meant%20to%20be%20copying.http://cnx.org/content/m13711/latest/  Hi%20I%20am%20trying%20to%20carry%20out%20this%20VI%20curve%20tutorial%20 I%20have%20everything%20set%20up%20but%20I%20am%20really%20having%20trouble%20with%20the%20Block%20diagram%20I%20am%20meant%20to%20be%20copying. For%20example%20%20how%20do%20I%20know%20which%20daq%20assistant%20is%20the%20input%20and%20which%20the%20ouput%20and%20then%20why%20is%20there%203%20and%20not%202?http://cnx.org/content/m13711/latest/  Hi%20I%20am%20trying%20to%20carry%20out%20this%20VI%20curve%20tutorial%20 I%20have%20everything%20set%20up%20but%20I%20am%20really%20having%20trouble%20with%20the%20Block%20diagram%20I%20am%20meant%20to%20be%20copying. For%20example%20%20how%20do%20I%20know%20which%20daq%20assistant%20is%20the%20input%20and%20which%20the%20ouput%20and%20then%20why%20is%20there%203%20and%20not%202? also%20the%20N%20in%20a%20blue%20box%20and%20the%20I%20in%20a%20blue%20box%20in%20the%20top%20left%20and%20bottom%20left%20corner%20%20I%20have%20no%20idea%20what%20these%20are.http://cnx.org/content/m13711/latest/  Hi%20I%20am%20trying%20to%20carry%20out%20this%20VI%20curve%20tutorial%20 I%20have%20everything%20set%20up%20but%20I%20am%20really%20having%20trouble%20with%20the%20Block%20diagram%20I%20am%20meant%20to%20be%20copying. For%20example%20%20how%20do%20I%20know%20which%20daq%20assistant%20is%20the%20input%20and%20which%20the%20ouput%20and%20then%20why%20is%20there%203%20and%20not%202? also%20the%20N%20in%20a%20blue%20box%20and%20the%20I%20in%20a%20blue%20box%20in%20the%20top%20left%20and%20bottom%20left%20corner%20%20I%20have%20no%20idea%20what%20these%20are. Please%20help%20its%20really%20important%20I%20do%20this.http://cnx.org/content/m13711/latest/  Hi%20I%20am%20trying%20to%20carry%20out%20this%20VI%20curve%20tutorial%20 I%20have%20everything%20set%20up%20but%20I%20am%20really%20having%20trouble%20with%20the%20Block%20diagram%20I%20am%20meant%20to%20be%20copying. For%20example%20%20how%20do%20I%20know%20which%20daq%20assistant%20is%20the%20input%20and%20which%20the%20ouput%20and%20then%20why%20is%20there%203%20and%20not%202? also%20the%20N%20in%20a%20blue%20box%20and%20the%20I%20in%20a%20blue%20box%20in%20the%20top%20left%20and%20bottom%20left%20corner%20%20I%20have%20no%20idea%20what%20these%20are.  \n",
      "' with link or location/anchor > 2079 characters since it exceeds Excel's limit for URLS\n",
      "  warn(\"Ignoring URL '%s' with link or location/anchor > %d \"\n"
     ]
    }
   ],
   "source": [
    "row = 0; col = 0;\n",
    "import xlsxwriter\n",
    "from langdetect import detect\n",
    "with open('1999-2019_Final.csv', encoding=\"UTF-8\") as f:\n",
    "    workbook = xlsxwriter.Workbook('LangResults.xlsx')\n",
    "    worksheet = workbook.add_worksheet()\n",
    "    for line in f:\n",
    "        try:\n",
    "          lang = detect(line.lower());\n",
    "        except:\n",
    "            lang = \"error\"\n",
    "            print(\"this row throws error\", line)\n",
    "        worksheet.write(row, col, lang)\n",
    "        worksheet.write(row, col + 1, line)\n",
    "        row+= 1     \n",
    "    workbook.close()\n",
    "            \n",
    "            "
   ]
  },
  {
   "cell_type": "code",
   "execution_count": null,
   "id": "1796725a-1b05-4b45-8319-741770fa6cc8",
   "metadata": {},
   "outputs": [],
   "source": []
  }
 ],
 "metadata": {
  "kernelspec": {
   "display_name": "Python 3 (ipykernel)",
   "language": "python",
   "name": "python3"
  },
  "language_info": {
   "codemirror_mode": {
    "name": "ipython",
    "version": 3
   },
   "file_extension": ".py",
   "mimetype": "text/x-python",
   "name": "python",
   "nbconvert_exporter": "python",
   "pygments_lexer": "ipython3",
   "version": "3.9.12"
  }
 },
 "nbformat": 4,
 "nbformat_minor": 5
}
